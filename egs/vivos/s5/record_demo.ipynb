{
 "cells": [
  {
   "cell_type": "code",
   "execution_count": 21,
   "metadata": {},
   "outputs": [
    {
     "name": "stdout",
     "output_type": "stream",
     "text": [
      "Recording\n",
      "Finished recording ./voice/voice.wav\n"
     ]
    }
   ],
   "source": [
    "import pyaudio\n",
    "import wave\n",
    "import os\n",
    "os.system(\"rm -rf ./voice\")\n",
    "os.system(\"mkdir voice\")\n",
    "os.system(\"cp /Users/truongdinh/Documents/school_master_project/kaldi/egs/vivos/s5/data/train/text ./voice/text\")\n",
    "wav_file_name=\"./voice/voice.wav\"\n",
    "\n",
    "os.system(\"rm -rf {0}\".format(wav_file_name))\n",
    "chunk = 1024  # Record in chunks of 1024 samples\n",
    "sample_format = pyaudio.paInt16  # 16 bits per sample\n",
    "channels = 1\n",
    "fs = 16000  # Record at 16000 samples per second\n",
    "seconds = 5\n",
    "filename = wav_file_name\n",
    "p = pyaudio.PyAudio()  # Create an interface to PortAudio\n",
    "\n",
    "print('Recording')\n",
    "\n",
    "stream = p.open(format=sample_format,\n",
    "                channels=channels,\n",
    "                rate=fs,\n",
    "                frames_per_buffer=chunk,\n",
    "                input=True)\n",
    "\n",
    "frames = []  # Initialize array to store frames\n",
    "\n",
    "# Store data in chunks for 3 seconds\n",
    "for i in range(0, int(fs / chunk * seconds)):\n",
    "    data = stream.read(chunk)\n",
    "    frames.append(data)\n",
    "\n",
    "# Stop and close the stream \n",
    "stream.stop_stream()\n",
    "stream.close()\n",
    "# Terminate the PortAudio interface\n",
    "p.terminate()\n",
    "\n",
    "print('Finished recording',wav_file_name)\n",
    "\n",
    "# Save the recorded data as a WAV file\n",
    "wf = wave.open(filename, 'wb')\n",
    "wf.setnchannels(channels)\n",
    "wf.setsampwidth(p.get_sample_size(sample_format))\n",
    "wf.setframerate(fs)\n",
    "wf.writeframes(b''.join(frames))\n",
    "wf.close()"
   ]
  },
  {
   "cell_type": "code",
   "execution_count": 22,
   "metadata": {},
   "outputs": [
    {
     "data": {
      "text/plain": [
       "0"
      ]
     },
     "execution_count": 22,
     "metadata": {},
     "output_type": "execute_result"
    }
   ],
   "source": [
    "full_path_wav=os.path.abspath(wav_file_name)\n",
    "\n",
    "wav_scp=\"./voice/wav.scp\"\n",
    "\n",
    "os.system(\"touch {0}\".format(wav_scp))\n",
    "command0=\"echo \\\"utt1 {0}\\\" >> {1}\".format(full_path_wav,wav_scp)\n",
    "os.system(command0) \n",
    "\n",
    "utt2spk=\"./voice/utt2spk\"\n",
    "\n",
    "os.system(\"touch {0}\".format(utt2spk))\n",
    "command1=\"echo \\\"utt1 {0}\\\" >> {1}\".format(\"utt1\",utt2spk)\n",
    "os.system(command1) \n",
    "\n",
    "spk2utt=\"./voice/spk2utt\"\n",
    "\n",
    "os.system(\"touch {0}\".format(spk2utt))\n",
    "command2=\"echo \\\"utt1 {0}\\\" >> {1}\".format(\"utt1\",spk2utt)\n",
    "os.system(command2) "
   ]
  },
  {
   "cell_type": "code",
   "execution_count": 23,
   "metadata": {},
   "outputs": [
    {
     "data": {
      "text/plain": [
       "0"
      ]
     },
     "execution_count": 23,
     "metadata": {},
     "output_type": "execute_result"
    }
   ],
   "source": [
    "import subprocess\n",
    "#model=\"mono\"\n",
    "#model=\"tri1\"\n",
    "model=\"tri2\"\n",
    "#model=\"tri3\"\n",
    "log_path=\"exp/{0}/decode_demo/log/decode.1.log\".format(model)\n",
    "os.system(\"rm -rf {0}\".format(log_path))\n",
    "subprocess.call(['sh', \"execute_{0}.sh\".format(model)]) "
   ]
  },
  {
   "cell_type": "code",
   "execution_count": 24,
   "metadata": {},
   "outputs": [
    {
     "name": "stdout",
     "output_type": "stream",
     "text": [
      "utt1\n",
      "utt1 MỤC THỂ BỚT BỐN NĂM SÁU BẢY TRỚN TRÊN\n"
     ]
    }
   ],
   "source": [
    "list_utt=[]\n",
    "wav_file=open(wav_scp,'r')\n",
    "wav_lines = wav_file.readlines()\n",
    "for wav_line in wav_lines:\n",
    "    list_utt.append(wav_line.split()[0])\n",
    "    print(wav_line.split()[0])\n",
    "log_file = open(log_path, 'r')\n",
    "lines= log_file.readlines()\n",
    "for line in lines:\n",
    "    line_val=line.strip()\n",
    "    utt_text_val=line_val.split()\n",
    "    if 2 <= len(utt_text_val) :\n",
    "        utt=utt_text_val[0]\n",
    "        text_val=utt_text_val[1]\n",
    "        for v in list_utt:\n",
    "            if v == utt:\n",
    "                print(line_val)"
   ]
  }
 ],
 "metadata": {
  "interpreter": {
   "hash": "31f2aee4e71d21fbe5cf8b01ff0e069b9275f58929596ceb00d14d90e3e16cd6"
  },
  "kernelspec": {
   "display_name": "Python 3.8.2 64-bit",
   "language": "python",
   "name": "python3"
  },
  "language_info": {
   "codemirror_mode": {
    "name": "ipython",
    "version": 3
   },
   "file_extension": ".py",
   "mimetype": "text/x-python",
   "name": "python",
   "nbconvert_exporter": "python",
   "pygments_lexer": "ipython3",
   "version": "3.9.7"
  },
  "orig_nbformat": 4
 },
 "nbformat": 4,
 "nbformat_minor": 2
}
