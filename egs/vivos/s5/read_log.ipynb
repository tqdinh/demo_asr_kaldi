{
 "cells": [
  {
   "cell_type": "code",
   "execution_count": 17,
   "metadata": {},
   "outputs": [],
   "source": [
    "# import subprocess\n",
    "# import os\n",
    "# #os.system('bash demo_mono/mk_mfcc.sh')\n",
    "# #os.system('bash #demo_mono/mk_graph_decode.sh')\n",
    "# subprocess.call(['sh', 'demo_mono/mk_mfcc.sh']) \n",
    "# subprocess.call(['sh', 'demo_mono/mk_graph_decode.sh']) "
   ]
  },
  {
   "cell_type": "code",
   "execution_count": 18,
   "metadata": {},
   "outputs": [],
   "source": []
  }
 ],
 "metadata": {
  "interpreter": {
   "hash": "f490944de15955538e515a8d0cb84cdcafa0e80e632ca37082e01ba77ad3e440"
  },
  "kernelspec": {
   "display_name": "Python 3.9.7 64-bit ('Speech-Emotion-Analyzer': venv)",
   "language": "python",
   "name": "python3"
  },
  "language_info": {
   "codemirror_mode": {
    "name": "ipython",
    "version": 3
   },
   "file_extension": ".py",
   "mimetype": "text/x-python",
   "name": "python",
   "nbconvert_exporter": "python",
   "pygments_lexer": "ipython3",
   "version": "3.9.7"
  },
  "orig_nbformat": 4
 },
 "nbformat": 4,
 "nbformat_minor": 2
}
