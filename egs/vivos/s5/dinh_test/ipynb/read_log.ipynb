{
 "cells": [
  {
   "cell_type": "code",
   "execution_count": 18,
   "metadata": {},
   "outputs": [
    {
     "name": "stderr",
     "output_type": "stream",
     "text": [
      "../../demo_mono/mk_mfcc.sh: line 1: ./path.sh: No such file or directory\n",
      "../../demo_mono/mk_mfcc.sh: line 8: steps/make_mfcc.sh: No such file or directory\n",
      "../../demo_mono/mk_mfcc.sh: line 10: steps/compute_cmvn_stats.sh: No such file or directory\n",
      "../../demo_mono/mk_mfcc.sh: line 11: utils/fix_data_dir.sh: No such file or directory\n",
      "../../demo_mono/mk_graph_decode.sh: line 1: ./path.sh: No such file or directory\n",
      "../../demo_mono/mk_graph_decode.sh: line 7: utils/mkgraph.sh: No such file or directory\n",
      "../../demo_mono/mk_graph_decode.sh: line 8: steps/decode.sh: No such file or directory\n"
     ]
    },
    {
     "data": {
      "text/plain": [
       "32512"
      ]
     },
     "execution_count": 18,
     "metadata": {},
     "output_type": "execute_result"
    }
   ],
   "source": [
    "import subprocess\n",
    "import os\n",
    "os.system('bash ../../demo_mono/mk_mfcc.sh')\n",
    "os.system('bash ../../demo_mono/mk_graph_decode.sh')\n",
    "# subprocess.call(['sh', '../../demo_mono/mk_mfcc.sh']) \n",
    "# subprocess.call(['sh', '../../demo_mono/mk_graph_decode.sh']) "
   ]
  },
  {
   "cell_type": "markdown",
   "metadata": {},
   "source": [
    "\n",
    "list_utt=[]\n",
    "wav_file=open(\"../wav.scp\",'r')\n",
    "wav_lines = wav_file.readlines()\n",
    "for wav_line in wav_lines:\n",
    "    list_utt.append(wav_line.split()[0])\n",
    "    print(wav_line.split()[0])\n",
    "log_file = open('../../exp/mono/decode_dinh/log/decode.1.log', 'r')\n",
    "lines= log_file.readlines()\n",
    "for line in lines:\n",
    "    line_val=line.strip()\n",
    "    \n",
    "    utt_text_val=line_val.split()\n",
    "    \n",
    "    if 2 <= len(utt_text_val) :\n",
    "        utt=utt_text_val[0]\n",
    "        text_val=utt_text_val[1]\n",
    "\n",
    "        for v in list_utt:\n",
    "            if v == utt:\n",
    "                print(line_val)"
   ]
  }
 ],
 "metadata": {
  "interpreter": {
   "hash": "f490944de15955538e515a8d0cb84cdcafa0e80e632ca37082e01ba77ad3e440"
  },
  "kernelspec": {
   "display_name": "Python 3.9.7 64-bit ('Speech-Emotion-Analyzer': venv)",
   "language": "python",
   "name": "python3"
  },
  "language_info": {
   "codemirror_mode": {
    "name": "ipython",
    "version": 3
   },
   "file_extension": ".py",
   "mimetype": "text/x-python",
   "name": "python",
   "nbconvert_exporter": "python",
   "pygments_lexer": "ipython3",
   "version": "3.9.7"
  },
  "orig_nbformat": 4
 },
 "nbformat": 4,
 "nbformat_minor": 2
}
